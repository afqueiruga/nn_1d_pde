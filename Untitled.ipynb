{
 "cells": [
  {
   "cell_type": "code",
   "execution_count": 1,
   "metadata": {},
   "outputs": [],
   "source": [
    "from sympy import *"
   ]
  },
  {
   "cell_type": "code",
   "execution_count": 16,
   "metadata": {},
   "outputs": [],
   "source": [
    "import sympy"
   ]
  },
  {
   "cell_type": "code",
   "execution_count": 58,
   "metadata": {},
   "outputs": [],
   "source": [
    "import numpy as np\n",
    "from matplotlib import pylab as plt"
   ]
  },
  {
   "cell_type": "code",
   "execution_count": 59,
   "metadata": {},
   "outputs": [],
   "source": [
    "def plot_stack_and_save(SOLS, xlim, tlim, fname):\n",
    "    xs = np.linspace(*xlim)\n",
    "    ts = np.linspace(*tlim)\n",
    "    grid = np.meshgrid(xs,ts)\n",
    "    US = []\n",
    "    for S in SOLS:\n",
    "        u = S(grid[0],grid[1])\n",
    "        plt.figure()\n",
    "        for i,t in enumerate(ts):\n",
    "            plt.plot(xs,u[i,:],'-+')\n",
    "        US.append(u)\n",
    "    UDATA = np.stack(US)\n",
    "    np.savez(f\"data/{fname}\",U=UDATA)"
   ]
  },
  {
   "cell_type": "code",
   "execution_count": 94,
   "metadata": {},
   "outputs": [
    {
     "data": {
      "image/png": "[encoded data removed]",
      "text/latex": [
       "$$\\left [ \\left ( 0, \\quad 0.5688888888888889\\right ), \\quad \\left ( 0.5384693101056831, \\quad 0.47862867049936647\\right ), \\quad \\left ( -0.5384693101056831, \\quad 0.47862867049936647\\right ), \\quad \\left ( 0.906179845938664, \\quad 0.23692688505618908\\right ), \\quad \\left ( -0.906179845938664, \\quad 0.23692688505618908\\right )\\right ]$$"
      ],
      "text/plain": [
       "[(0, 0.5688888888888889), (0.5384693101056831, 0.47862867049936647), (-0.53846\n",
       "93101056831, 0.47862867049936647), (0.906179845938664, 0.23692688505618908), (\n",
       "-0.906179845938664, 0.23692688505618908)]"
      ]
     },
     "execution_count": 94,
     "metadata": {},
     "output_type": "execute_result"
    }
   ],
   "source": [
    "quad_table"
   ]
  },
  {
   "cell_type": "code",
   "execution_count": 2,
   "metadata": {},
   "outputs": [],
   "source": [
    "init_printing()"
   ]
  },
  {
   "cell_type": "code",
   "execution_count": 3,
   "metadata": {},
   "outputs": [
    {
     "data": {
      "image/png": "[encoded data removed]",
      "text/latex": [
       "$$\\left ( x, \\quad x_{2}, \\quad x_{3}, \\quad u_{0}\\right )$$"
      ],
      "text/plain": [
       "(x, x₂, x₃, u₀)"
      ]
     },
     "execution_count": 3,
     "metadata": {},
     "output_type": "execute_result"
    }
   ],
   "source": [
    "var('x x_2 x_3  u_0',real=True)"
   ]
  },
  {
   "cell_type": "code",
   "execution_count": 4,
   "metadata": {},
   "outputs": [
    {
     "data": {
      "image/png": "[encoded data removed]",
      "text/latex": [
       "$$\\left ( t, \\quad \\nu\\right )$$"
      ],
      "text/plain": [
       "(t, ν)"
      ]
     },
     "execution_count": 4,
     "metadata": {},
     "output_type": "execute_result"
    }
   ],
   "source": [
    "var('t nu',real=True,positive=True)"
   ]
  },
  {
   "cell_type": "code",
   "execution_count": 5,
   "metadata": {},
   "outputs": [],
   "source": [
    "phi_0 = exp(-1/(2*nu)*integrate(u_0,(x,0,x_2)) )"
   ]
  },
  {
   "cell_type": "code",
   "execution_count": 6,
   "metadata": {},
   "outputs": [
    {
     "data": {
      "image/png": "[encoded data removed]",
      "text/latex": [
       "$$e^{- \\frac{u_{0} x_{2}}{2 \\nu}}$$"
      ],
      "text/plain": [
       " -u₀⋅x₂ \n",
       " ───────\n",
       "   2⋅ν  \n",
       "ℯ       "
      ]
     },
     "execution_count": 6,
     "metadata": {},
     "output_type": "execute_result"
    }
   ],
   "source": [
    "phi_0"
   ]
  },
  {
   "cell_type": "code",
   "execution_count": 7,
   "metadata": {},
   "outputs": [
    {
     "data": {
      "image/png": "[encoded data removed]",
      "text/latex": [
       "$$- \\frac{u_{0} x_{2}}{2 \\nu} - \\frac{\\left(- x_{2} + x_{3}\\right)^{2}}{4 \\nu t}$$"
      ],
      "text/plain": [
       "                    2\n",
       "  u₀⋅x₂   (-x₂ + x₃) \n",
       "- ───── - ───────────\n",
       "   2⋅ν       4⋅ν⋅t   "
      ]
     },
     "execution_count": 7,
     "metadata": {},
     "output_type": "execute_result"
    }
   ],
   "source": [
    "temp = -(x_3-x_2)**2/(4*nu*t) - 1/(2*nu)*integrate(u_0,(x,0,x_2))\n",
    "temp"
   ]
  },
  {
   "cell_type": "code",
   "execution_count": 8,
   "metadata": {},
   "outputs": [
    {
     "data": {
      "image/png": "[encoded data removed]",
      "text/latex": [
       "$$- \\frac{2 \\nu \\left(- \\frac{\\pi \\sqrt{t} u_{0} e^{\\frac{t u_{0}^{2}}{4 \\nu}} \\operatorname{erf}{\\left (\\frac{\\sqrt{t} u_{0}}{2 \\sqrt{\\nu}} \\right )}}{2 \\sqrt{\\nu}} - \\frac{\\pi \\sqrt{t} u_{0} e^{\\frac{t u_{0}^{2}}{4 \\nu}}}{2 \\sqrt{\\nu}}\\right) e^{- \\frac{u_{0} x_{3}}{2 \\nu}}}{\\sqrt{\\pi} u_{0}} + \\frac{2 \\nu \\left(- \\frac{\\pi \\sqrt{t} u_{0} e^{\\frac{t u_{0}^{2}}{4 \\nu}} \\operatorname{erf}{\\left (\\frac{\\sqrt{t} u_{0}}{2 \\sqrt{\\nu}} \\right )}}{2 \\sqrt{\\nu}} + \\frac{\\pi \\sqrt{t} u_{0} e^{\\frac{t u_{0}^{2}}{4 \\nu}}}{2 \\sqrt{\\nu}}\\right) e^{- \\frac{u_{0} x_{3}}{2 \\nu}}}{\\sqrt{\\pi} u_{0}}$$"
      ],
      "text/plain": [
       "      ⎛               2                            ⎞                ⎛         \n",
       "      ⎜           t⋅u₀                            2⎟                ⎜         \n",
       "      ⎜           ─────                       t⋅u₀ ⎟                ⎜         \n",
       "      ⎜            4⋅ν     ⎛√t⋅u₀⎞            ─────⎟  -u₀⋅x₃        ⎜         \n",
       "      ⎜  π⋅√t⋅u₀⋅ℯ     ⋅erf⎜─────⎟             4⋅ν ⎟  ───────       ⎜  π⋅√t⋅u₀\n",
       "      ⎜                    ⎝ 2⋅√ν⎠   π⋅√t⋅u₀⋅ℯ     ⎟    2⋅ν         ⎜         \n",
       "  2⋅ν⋅⎜- ───────────────────────── - ──────────────⎟⋅ℯ          2⋅ν⋅⎜- ───────\n",
       "      ⎝             2⋅√ν                  2⋅√ν     ⎠                ⎝         \n",
       "- ─────────────────────────────────────────────────────────── + ──────────────\n",
       "                             √π⋅u₀                                            \n",
       "\n",
       "      2                            ⎞         \n",
       "  t⋅u₀                            2⎟         \n",
       "  ─────                       t⋅u₀ ⎟         \n",
       "   4⋅ν     ⎛√t⋅u₀⎞            ─────⎟  -u₀⋅x₃ \n",
       "⋅ℯ     ⋅erf⎜─────⎟             4⋅ν ⎟  ───────\n",
       "           ⎝ 2⋅√ν⎠   π⋅√t⋅u₀⋅ℯ     ⎟    2⋅ν  \n",
       "────────────────── + ──────────────⎟⋅ℯ       \n",
       "    2⋅√ν                  2⋅√ν     ⎠         \n",
       "─────────────────────────────────────────────\n",
       "             √π⋅u₀                           "
      ]
     },
     "execution_count": 8,
     "metadata": {},
     "output_type": "execute_result"
    }
   ],
   "source": [
    "integ = integrate(exp(temp), (x_2,-oo,oo))\n",
    "integ"
   ]
  },
  {
   "cell_type": "code",
   "execution_count": 9,
   "metadata": {},
   "outputs": [
    {
     "data": {
      "image/png": "[encoded data removed]",
      "text/latex": [
       "$$\\log{\\left (\\frac{- \\frac{2 \\nu \\left(- \\frac{\\pi \\sqrt{t} u_{0} e^{\\frac{t u_{0}^{2}}{4 \\nu}} \\operatorname{erf}{\\left (\\frac{\\sqrt{t} u_{0}}{2 \\sqrt{\\nu}} \\right )}}{2 \\sqrt{\\nu}} - \\frac{\\pi \\sqrt{t} u_{0} e^{\\frac{t u_{0}^{2}}{4 \\nu}}}{2 \\sqrt{\\nu}}\\right) e^{- \\frac{u_{0} x_{3}}{2 \\nu}}}{\\sqrt{\\pi} u_{0}} + \\frac{2 \\nu \\left(- \\frac{\\pi \\sqrt{t} u_{0} e^{\\frac{t u_{0}^{2}}{4 \\nu}} \\operatorname{erf}{\\left (\\frac{\\sqrt{t} u_{0}}{2 \\sqrt{\\nu}} \\right )}}{2 \\sqrt{\\nu}} + \\frac{\\pi \\sqrt{t} u_{0} e^{\\frac{t u_{0}^{2}}{4 \\nu}}}{2 \\sqrt{\\nu}}\\right) e^{- \\frac{u_{0} x_{3}}{2 \\nu}}}{\\sqrt{\\pi} u_{0}}}{2 \\sqrt{\\pi} \\sqrt{\\nu} \\sqrt{t}} \\right )}$$"
      ],
      "text/plain": [
       "   ⎛      ⎛               2                            ⎞                ⎛     \n",
       "   ⎜      ⎜           t⋅u₀                            2⎟                ⎜     \n",
       "   ⎜      ⎜           ─────                       t⋅u₀ ⎟                ⎜     \n",
       "   ⎜      ⎜            4⋅ν     ⎛√t⋅u₀⎞            ─────⎟  -u₀⋅x₃        ⎜     \n",
       "   ⎜      ⎜  π⋅√t⋅u₀⋅ℯ     ⋅erf⎜─────⎟             4⋅ν ⎟  ───────       ⎜  π⋅√\n",
       "   ⎜      ⎜                    ⎝ 2⋅√ν⎠   π⋅√t⋅u₀⋅ℯ     ⎟    2⋅ν         ⎜     \n",
       "   ⎜  2⋅ν⋅⎜- ───────────────────────── - ──────────────⎟⋅ℯ          2⋅ν⋅⎜- ───\n",
       "   ⎜      ⎝             2⋅√ν                  2⋅√ν     ⎠                ⎝     \n",
       "   ⎜- ─────────────────────────────────────────────────────────── + ──────────\n",
       "   ⎜                             √π⋅u₀                                        \n",
       "log⎜──────────────────────────────────────────────────────────────────────────\n",
       "   ⎝                                                         2⋅√π⋅√ν⋅√t       \n",
       "\n",
       "          2                            ⎞         ⎞\n",
       "      t⋅u₀                            2⎟         ⎟\n",
       "      ─────                       t⋅u₀ ⎟         ⎟\n",
       "       4⋅ν     ⎛√t⋅u₀⎞            ─────⎟  -u₀⋅x₃ ⎟\n",
       "t⋅u₀⋅ℯ     ⋅erf⎜─────⎟             4⋅ν ⎟  ───────⎟\n",
       "               ⎝ 2⋅√ν⎠   π⋅√t⋅u₀⋅ℯ     ⎟    2⋅ν  ⎟\n",
       "────────────────────── + ──────────────⎟⋅ℯ       ⎟\n",
       "        2⋅√ν                  2⋅√ν     ⎠         ⎟\n",
       "─────────────────────────────────────────────────⎟\n",
       "                 √π⋅u₀                           ⎟\n",
       "─────────────────────────────────────────────────⎟\n",
       "                                                 ⎠"
      ]
     },
     "execution_count": 9,
     "metadata": {},
     "output_type": "execute_result"
    }
   ],
   "source": [
    "res = log(integ/sqrt(4*pi*nu*t))\n",
    "res"
   ]
  },
  {
   "cell_type": "code",
   "execution_count": 10,
   "metadata": {},
   "outputs": [
    {
     "data": {
      "image/png": "[encoded data removed]",
      "text/latex": [
       "$$- \\frac{2 \\nu \\left(\\frac{\\left(- \\frac{\\pi \\sqrt{t} u_{0} e^{\\frac{t u_{0}^{2}}{4 \\nu}} \\operatorname{erf}{\\left (\\frac{\\sqrt{t} u_{0}}{2 \\sqrt{\\nu}} \\right )}}{2 \\sqrt{\\nu}} - \\frac{\\pi \\sqrt{t} u_{0} e^{\\frac{t u_{0}^{2}}{4 \\nu}}}{2 \\sqrt{\\nu}}\\right) e^{- \\frac{u_{0} x_{3}}{2 \\nu}}}{\\sqrt{\\pi}} - \\frac{\\left(- \\frac{\\pi \\sqrt{t} u_{0} e^{\\frac{t u_{0}^{2}}{4 \\nu}} \\operatorname{erf}{\\left (\\frac{\\sqrt{t} u_{0}}{2 \\sqrt{\\nu}} \\right )}}{2 \\sqrt{\\nu}} + \\frac{\\pi \\sqrt{t} u_{0} e^{\\frac{t u_{0}^{2}}{4 \\nu}}}{2 \\sqrt{\\nu}}\\right) e^{- \\frac{u_{0} x_{3}}{2 \\nu}}}{\\sqrt{\\pi}}\\right)}{- \\frac{2 \\nu \\left(- \\frac{\\pi \\sqrt{t} u_{0} e^{\\frac{t u_{0}^{2}}{4 \\nu}} \\operatorname{erf}{\\left (\\frac{\\sqrt{t} u_{0}}{2 \\sqrt{\\nu}} \\right )}}{2 \\sqrt{\\nu}} - \\frac{\\pi \\sqrt{t} u_{0} e^{\\frac{t u_{0}^{2}}{4 \\nu}}}{2 \\sqrt{\\nu}}\\right) e^{- \\frac{u_{0} x_{3}}{2 \\nu}}}{\\sqrt{\\pi} u_{0}} + \\frac{2 \\nu \\left(- \\frac{\\pi \\sqrt{t} u_{0} e^{\\frac{t u_{0}^{2}}{4 \\nu}} \\operatorname{erf}{\\left (\\frac{\\sqrt{t} u_{0}}{2 \\sqrt{\\nu}} \\right )}}{2 \\sqrt{\\nu}} + \\frac{\\pi \\sqrt{t} u_{0} e^{\\frac{t u_{0}^{2}}{4 \\nu}}}{2 \\sqrt{\\nu}}\\right) e^{- \\frac{u_{0} x_{3}}{2 \\nu}}}{\\sqrt{\\pi} u_{0}}}$$"
      ],
      "text/plain": [
       "      ⎛⎛               2                            ⎞            ⎛            \n",
       "      ⎜⎜           t⋅u₀                            2⎟            ⎜           t\n",
       "      ⎜⎜           ─────                       t⋅u₀ ⎟            ⎜           ─\n",
       "      ⎜⎜            4⋅ν     ⎛√t⋅u₀⎞            ─────⎟  -u₀⋅x₃    ⎜            \n",
       "      ⎜⎜  π⋅√t⋅u₀⋅ℯ     ⋅erf⎜─────⎟             4⋅ν ⎟  ───────   ⎜  π⋅√t⋅u₀⋅ℯ \n",
       "      ⎜⎜                    ⎝ 2⋅√ν⎠   π⋅√t⋅u₀⋅ℯ     ⎟    2⋅ν     ⎜            \n",
       "      ⎜⎜- ───────────────────────── - ──────────────⎟⋅ℯ          ⎜- ──────────\n",
       "      ⎜⎝             2⋅√ν                  2⋅√ν     ⎠            ⎝            \n",
       " -2⋅ν⋅⎜─────────────────────────────────────────────────────── - ─────────────\n",
       "      ⎝                           √π                                          \n",
       "──────────────────────────────────────────────────────────────────────────────\n",
       "      ⎛               2                            ⎞                ⎛         \n",
       "      ⎜           t⋅u₀                            2⎟                ⎜         \n",
       "      ⎜           ─────                       t⋅u₀ ⎟                ⎜         \n",
       "      ⎜            4⋅ν     ⎛√t⋅u₀⎞            ─────⎟  -u₀⋅x₃        ⎜         \n",
       "      ⎜  π⋅√t⋅u₀⋅ℯ     ⋅erf⎜─────⎟             4⋅ν ⎟  ───────       ⎜  π⋅√t⋅u₀\n",
       "      ⎜                    ⎝ 2⋅√ν⎠   π⋅√t⋅u₀⋅ℯ     ⎟    2⋅ν         ⎜         \n",
       "  2⋅ν⋅⎜- ───────────────────────── - ──────────────⎟⋅ℯ          2⋅ν⋅⎜- ───────\n",
       "      ⎝             2⋅√ν                  2⋅√ν     ⎠                ⎝         \n",
       "- ─────────────────────────────────────────────────────────── + ──────────────\n",
       "                             √π⋅u₀                                            \n",
       "\n",
       "   2                            ⎞         ⎞  \n",
       "⋅u₀                            2⎟         ⎟  \n",
       "────                       t⋅u₀ ⎟         ⎟  \n",
       "4⋅ν     ⎛√t⋅u₀⎞            ─────⎟  -u₀⋅x₃ ⎟  \n",
       "    ⋅erf⎜─────⎟             4⋅ν ⎟  ───────⎟  \n",
       "        ⎝ 2⋅√ν⎠   π⋅√t⋅u₀⋅ℯ     ⎟    2⋅ν  ⎟  \n",
       "─────────────── + ──────────────⎟⋅ℯ       ⎟  \n",
       " 2⋅√ν                  2⋅√ν     ⎠         ⎟  \n",
       "──────────────────────────────────────────⎟  \n",
       "              √π                          ⎠  \n",
       "─────────────────────────────────────────────\n",
       "      2                            ⎞         \n",
       "  t⋅u₀                            2⎟         \n",
       "  ─────                       t⋅u₀ ⎟         \n",
       "   4⋅ν     ⎛√t⋅u₀⎞            ─────⎟  -u₀⋅x₃ \n",
       "⋅ℯ     ⋅erf⎜─────⎟             4⋅ν ⎟  ───────\n",
       "           ⎝ 2⋅√ν⎠   π⋅√t⋅u₀⋅ℯ     ⎟    2⋅ν  \n",
       "────────────────── + ──────────────⎟⋅ℯ       \n",
       "    2⋅√ν                  2⋅√ν     ⎠         \n",
       "─────────────────────────────────────────────\n",
       "             √π⋅u₀                           "
      ]
     },
     "execution_count": 10,
     "metadata": {},
     "output_type": "execute_result"
    }
   ],
   "source": [
    "-2*nu*res.diff(x_3)"
   ]
  },
  {
   "cell_type": "code",
   "execution_count": 11,
   "metadata": {},
   "outputs": [
    {
     "data": {
      "image/png": "[encoded data removed]",
      "text/latex": [
       "$$u_{0}$$"
      ],
      "text/plain": [
       "u₀"
      ]
     },
     "execution_count": 11,
     "metadata": {},
     "output_type": "execute_result"
    }
   ],
   "source": [
    "_.simplify()"
   ]
  },
  {
   "cell_type": "code",
   "execution_count": 12,
   "metadata": {},
   "outputs": [],
   "source": [
    "import detest"
   ]
  },
  {
   "cell_type": "code",
   "execution_count": 17,
   "metadata": {},
   "outputs": [
    {
     "data": {
      "image/png": "[encoded data removed]",
      "text/latex": [
       "$$e^{- \\frac{5.0 u_{0}}{\\nu}}$$"
      ],
      "text/plain": [
       " -5.0⋅u₀ \n",
       " ────────\n",
       "    ν    \n",
       "ℯ        "
      ]
     },
     "execution_count": 17,
     "metadata": {},
     "output_type": "execute_result"
    }
   ],
   "source": [
    "sympy.lambdify((x_2,),zeta0,modules=\"sympy\")(10)"
   ]
  },
  {
   "cell_type": "code",
   "execution_count": 18,
   "metadata": {},
   "outputs": [],
   "source": [
    "zetaN = zeta0.subs({u_0:1,nu:1})"
   ]
  },
  {
   "cell_type": "code",
   "execution_count": 21,
   "metadata": {},
   "outputs": [
    {
     "name": "stdout",
     "output_type": "stream",
     "text": [
      "[0.498741326071666, 0.06222852373179015, 0.1699797928754822, 0.031261803310386305, 0.10217139701997516, 0.020859519659349256, 0.07301576794080022, 0.01564945378272355, 0.05680163605858664, 0.012521346398273608, 0.04647886927578958, 0.010435262797150256, 0.039330612027986205, 0.008944928343110866, 0.03408780185578013, 0.007827049348839111, 0.030078222021737024, 0.00695752166834453, 0.026912563806728906, 0.006261862509108372]\n"
     ]
    }
   ],
   "source": [
    "orc=detest.oracles.HeatEquation1D({'u0':sympy.lambdify((x_2,),zetaN,modules=\"sympy\")})"
   ]
  },
  {
   "cell_type": "code",
   "execution_count": 19,
   "metadata": {},
   "outputs": [],
   "source": [
    "import numpy as np"
   ]
  },
  {
   "cell_type": "code",
   "execution_count": 112,
   "metadata": {},
   "outputs": [],
   "source": [
    "def make_solution_2(fu0, xlim):\n",
    "    nu = 1.0\n",
    "    u_0 = fu0(x)\n",
    "    zeta0 = exp(-1/(2*nu)*integrate(u_0,(x,0,x_2)))\n",
    "    integ = zeta0*exp(-(x_2-x_3)**2/(4*nu*t))\n",
    "    print(integ)\n",
    "    #integ.subs({t:1,x_3:1})\n",
    "    gauss = sum([w*integ.subs(x_2,z) for z,w in quad_table])\n",
    "    expr = -2*nu*gauss.diff(x_3)/gauss\n",
    "    print(expr)\n",
    "    #print(limit(expr,t,0,'+'))\n",
    "    \n",
    "    return lambdify((x_3,t),expr)\n",
    "    #return integrate(integ,(x_2,xlim[0],xlim[1]))\n",
    "    #zetaN = zeta0.subs({u_0:1,nu:1})"
   ]
  },
  {
   "cell_type": "code",
   "execution_count": 117,
   "metadata": {},
   "outputs": [
    {
     "name": "stdout",
     "output_type": "stream",
     "text": [
      "exp(-0.5*x_2)*exp(-0.25*(x_2 - x_3)**2/t)\n",
      "(0.568888888888889*x_3*exp(-0.25*x_3**2/t)/t + 0.0753025868502495*(2*x_3 - 1.81235969187733)*exp(-0.25*(-x_3 + 0.906179845938664)**2/t)/t + 0.182827528823631*(2*x_3 - 1.07693862021137)*exp(-0.25*(-x_3 + 0.538469310105683)**2/t)/t + 0.313253433027834*(2*x_3 + 1.07693862021137)*exp(-0.25*(-x_3 - 0.538469310105683)**2/t)/t + 0.186362617840939*(2*x_3 + 1.81235969187733)*exp(-0.25*(-x_3 - 0.906179845938664)**2/t)/t)/(0.150605173700499*exp(-0.25*(-x_3 + 0.906179845938664)**2/t) + 0.365655057647262*exp(-0.25*(-x_3 + 0.538469310105683)**2/t) + 0.626506866055668*exp(-0.25*(-x_3 - 0.538469310105683)**2/t) + 0.372725235681878*exp(-0.25*(-x_3 - 0.906179845938664)**2/t) + 0.568888888888889*exp(-0.25*x_3**2/t))\n",
      "exp(-0.25*(x_2 - x_3)**2/t)*exp(0.166666666666667*x_2**3 - 0.25*x_2**2)\n",
      "(0.568888888888889*x_3*exp(-0.25*x_3**2/t)/t + 0.1092167014692*(2*x_3 - 1.81235969187733)*exp(-0.25*(-x_3 + 0.906179845938664)**2/t)/t + 0.228448786474061*(2*x_3 - 1.07693862021137)*exp(-0.25*(-x_3 + 0.538469310105683)**2/t)/t + 0.216863720719665*(2*x_3 + 1.07693862021137)*exp(-0.25*(-x_3 - 0.538469310105683)**2/t)/t + 0.0852249192171563*(2*x_3 + 1.81235969187733)*exp(-0.25*(-x_3 - 0.906179845938664)**2/t)/t)/(0.2184334029384*exp(-0.25*(-x_3 + 0.906179845938664)**2/t) + 0.456897572948123*exp(-0.25*(-x_3 + 0.538469310105683)**2/t) + 0.433727441439329*exp(-0.25*(-x_3 - 0.538469310105683)**2/t) + 0.170449838434313*exp(-0.25*(-x_3 - 0.906179845938664)**2/t) + 0.568888888888889*exp(-0.25*x_3**2/t))\n",
      "exp(-0.25*(x_2 - x_3)**2/t)*exp(1.0*pi*cos(x_2/(2*pi)) - 1.0*pi)\n",
      "(0.568888888888889*x_3*exp(-0.25*x_3**2/t)/t + 0.118463442528095*(2*x_3 - 1.81235969187733)*exp(-0.25*(-x_3 + 0.906179845938664)**2/t)*exp(-1.0*pi + 1.0*pi*cos(0.453089922969332/pi))/t + 0.239314335249683*(2*x_3 - 1.07693862021137)*exp(-0.25*(-x_3 + 0.538469310105683)**2/t)*exp(-1.0*pi + 1.0*pi*cos(0.269234655052842/pi))/t + 0.239314335249683*(2*x_3 + 1.07693862021137)*exp(-0.25*(-x_3 - 0.538469310105683)**2/t)*exp(-1.0*pi + 1.0*pi*cos(0.269234655052842/pi))/t + 0.118463442528095*(2*x_3 + 1.81235969187733)*exp(-0.25*(-x_3 - 0.906179845938664)**2/t)*exp(-1.0*pi + 1.0*pi*cos(0.453089922969332/pi))/t)/(0.236926885056189*exp(-0.25*(-x_3 + 0.906179845938664)**2/t)*exp(-1.0*pi + 1.0*pi*cos(0.453089922969332/pi)) + 0.478628670499366*exp(-0.25*(-x_3 + 0.538469310105683)**2/t)*exp(-1.0*pi + 1.0*pi*cos(0.269234655052842/pi)) + 0.478628670499366*exp(-0.25*(-x_3 - 0.538469310105683)**2/t)*exp(-1.0*pi + 1.0*pi*cos(0.269234655052842/pi)) + 0.236926885056189*exp(-0.25*(-x_3 - 0.906179845938664)**2/t)*exp(-1.0*pi + 1.0*pi*cos(0.453089922969332/pi)) + 0.568888888888889*exp(-0.25*x_3**2/t))\n",
      "(tanh(x_2) + 1)**0.5*exp(-0.5*x_2)*exp(-0.25*(x_2 - x_3)**2/t)\n",
      "(0.568888888888889*x_3*exp(-0.25*x_3**2/t)/t + 0.0987381360877694*(2*x_3 - 1.81235969187733)*exp(-0.25*(-x_3 + 0.906179845938664)**2/t)/t + 0.223306326353819*(2*x_3 - 1.07693862021137)*exp(-0.25*(-x_3 + 0.538469310105683)**2/t)/t + 0.223306326353819*(2*x_3 + 1.07693862021137)*exp(-0.25*(-x_3 - 0.538469310105683)**2/t)/t + 0.0987381360877693*(2*x_3 + 1.81235969187733)*exp(-0.25*(-x_3 - 0.906179845938664)**2/t)/t)/(0.197476272175539*exp(-0.25*(-x_3 + 0.906179845938664)**2/t) + 0.446612652707638*exp(-0.25*(-x_3 + 0.538469310105683)**2/t) + 0.446612652707638*exp(-0.25*(-x_3 - 0.538469310105683)**2/t) + 0.197476272175539*exp(-0.25*(-x_3 - 0.906179845938664)**2/t) + 0.568888888888889*exp(-0.25*x_3**2/t))\n",
      "(tanh(x_2) + 1)**(-0.5)*exp(0.5*x_2)*exp(-0.25*(x_2 - x_3)**2/t)\n",
      "(0.568888888888889*x_3*exp(-0.25*x_3**2/t)/t + 0.142129351146882*(2*x_3 - 1.81235969187733)*exp(-0.25*(-x_3 + 0.906179845938664)**2/t)/t + 0.256469899402912*(2*x_3 - 1.07693862021137)*exp(-0.25*(-x_3 + 0.538469310105683)**2/t)/t + 0.256469899402912*(2*x_3 + 1.07693862021137)*exp(-0.25*(-x_3 - 0.538469310105683)**2/t)/t + 0.142129351146882*(2*x_3 + 1.81235969187733)*exp(-0.25*(-x_3 - 0.906179845938664)**2/t)/t)/(0.284258702293763*exp(-0.25*(-x_3 + 0.906179845938664)**2/t) + 0.512939798805824*exp(-0.25*(-x_3 + 0.538469310105683)**2/t) + 0.512939798805824*exp(-0.25*(-x_3 - 0.538469310105683)**2/t) + 0.284258702293763*exp(-0.25*(-x_3 - 0.906179845938664)**2/t) + 0.568888888888889*exp(-0.25*x_3**2/t))\n"
     ]
    },
    {
     "name": "stderr",
     "output_type": "stream",
     "text": [
      "<string>:2: RuntimeWarning: divide by zero encountered in true_divide\n",
      "<string>:2: RuntimeWarning: invalid value encountered in true_divide\n",
      "<string>:2: RuntimeWarning: divide by zero encountered in true_divide\n",
      "<string>:2: RuntimeWarning: invalid value encountered in true_divide\n",
      "<string>:2: RuntimeWarning: divide by zero encountered in true_divide\n",
      "<string>:2: RuntimeWarning: invalid value encountered in true_divide\n",
      "<string>:2: RuntimeWarning: divide by zero encountered in true_divide\n",
      "<string>:2: RuntimeWarning: invalid value encountered in true_divide\n",
      "<string>:2: RuntimeWarning: divide by zero encountered in true_divide\n",
      "<string>:2: RuntimeWarning: invalid value encountered in true_divide\n"
     ]
    },
    {
     "data": {
      "image/png": "[encoded data removed]",
      "text/plain": [
       "<Figure size 432x288 with 1 Axes>"
      ]
     },
     "metadata": {
      "needs_background": "light"
     },
     "output_type": "display_data"
    },
    {
     "data": {
      "image/png": "[encoded data removed]",
      "text/plain": [
       "<Figure size 432x288 with 1 Axes>"
      ]
     },
     "metadata": {
      "needs_background": "light"
     },
     "output_type": "display_data"
    },
    {
     "data": {
      "image/png": "[encoded data removed]",
      "text/plain": [
       "<Figure size 432x288 with 1 Axes>"
      ]
     },
     "metadata": {
      "needs_background": "light"
     },
     "output_type": "display_data"
    },
    {
     "data": {
      "image/png": "[encoded data removed]",
      "text/plain": [
       "<Figure size 432x288 with 1 Axes>"
      ]
     },
     "metadata": {
      "needs_background": "light"
     },
     "output_type": "display_data"
    },
    {
     "data": {
      "image/png": "[encoded data removed]",
      "text/plain": [
       "<Figure size 432x288 with 1 Axes>"
      ]
     },
     "metadata": {
      "needs_background": "light"
     },
     "output_type": "display_data"
    }
   ],
   "source": [
    "SOLS = [\n",
    "    make_solution_2(lambda x : 1, (-1,1)),\n",
    "    make_solution_2(lambda x : -x**2+x, (-1,1)),\n",
    "    make_solution_2(lambda x : sin(x/(2*pi)), (-1,1)),\n",
    "    make_solution_2(lambda x : tanh(x), (-1,1)),\n",
    "    make_solution_2(lambda x : -tanh(x), (-1,1))\n",
    "\n",
    "]\n",
    "plot_stack_and_save(SOLS,(-1,1,41),(0,0.01,2),\"viscous_burgers\")"
   ]
  },
  {
   "cell_type": "code",
   "execution_count": 116,
   "metadata": {},
   "outputs": [
    {
     "ename": "AttributeError",
     "evalue": "'Plot' object has no attribute 'subs'",
     "output_type": "error",
     "traceback": [
      "\u001b[0;31m---------------------------------------------------------------------------\u001b[0m",
      "\u001b[0;31mAttributeError\u001b[0m                            Traceback (most recent call last)",
      "\u001b[0;32m<ipython-input-116-ea29be890826>\u001b[0m in \u001b[0;36m<module>\u001b[0;34m\u001b[0m\n\u001b[0;32m----> 1\u001b[0;31m \u001b[0m_\u001b[0m\u001b[0;34m.\u001b[0m\u001b[0msubs\u001b[0m\u001b[0;34m(\u001b[0m\u001b[0;34m{\u001b[0m\u001b[0mt\u001b[0m\u001b[0;34m:\u001b[0m\u001b[0;36m1\u001b[0m\u001b[0;34m,\u001b[0m\u001b[0mx_3\u001b[0m\u001b[0;34m:\u001b[0m\u001b[0;36m1\u001b[0m\u001b[0;34m}\u001b[0m\u001b[0;34m)\u001b[0m\u001b[0;34m\u001b[0m\u001b[0;34m\u001b[0m\u001b[0m\n\u001b[0m",
      "\u001b[0;31mAttributeError\u001b[0m: 'Plot' object has no attribute 'subs'"
     ]
    }
   ],
   "source": [
    "_.subs({t:1,x_3:1})"
   ]
  },
  {
   "cell_type": "code",
   "execution_count": null,
   "metadata": {},
   "outputs": [],
   "source": []
  },
  {
   "cell_type": "code",
   "execution_count": 36,
   "metadata": {},
   "outputs": [
    {
     "data": {
      "image/png": "[encoded data removed]",
      "text/latex": [
       "$$\\frac{2 \\left(- \\frac{\\pi e^{\\frac{1}{4}} \\operatorname{erf}{\\left (\\frac{1}{2} \\right )}}{2} + \\frac{\\pi e^{\\frac{1}{4}}}{2}\\right)}{\\sqrt{\\pi} e^{\\frac{1}{2}}} - \\frac{2 \\left(- \\frac{\\pi e^{\\frac{1}{4}}}{2} - \\frac{\\pi e^{\\frac{1}{4}} \\operatorname{erf}{\\left (\\frac{1}{2} \\right )}}{2}\\right)}{\\sqrt{\\pi} e^{\\frac{1}{2}}}$$"
      ],
      "text/plain": [
       "  ⎛     1/4               1/4⎞           ⎛     1/4      1/4         ⎞      \n",
       "  ⎜  π⋅ℯ   ⋅erf(1/2)   π⋅ℯ   ⎟  -1/2     ⎜  π⋅ℯ      π⋅ℯ   ⋅erf(1/2)⎟  -1/2\n",
       "2⋅⎜- ─────────────── + ──────⎟⋅ℯ       2⋅⎜- ────── - ───────────────⎟⋅ℯ    \n",
       "  ⎝         2            2   ⎠           ⎝    2             2       ⎠      \n",
       "──────────────────────────────────── - ────────────────────────────────────\n",
       "                 √π                                     √π                 "
      ]
     },
     "execution_count": 36,
     "metadata": {},
     "output_type": "execute_result"
    }
   ],
   "source": [
    "integrate(Out[33],(x_2,-oo,oo))"
   ]
  },
  {
   "cell_type": "code",
   "execution_count": null,
   "metadata": {},
   "outputs": [],
   "source": []
  },
  {
   "cell_type": "code",
   "execution_count": 31,
   "metadata": {},
   "outputs": [
    {
     "data": {
      "image/png": "[encoded data removed]",
      "text/latex": [
       "$$- \\frac{e^{- \\frac{x_{2}}{2}} e^{- \\frac{\\left(x_{2} - x_{3}\\right)^{2}}{4 t}}}{2} - \\frac{\\left(2 x_{2} - 2 x_{3}\\right) e^{- \\frac{x_{2}}{2}} e^{- \\frac{\\left(x_{2} - x_{3}\\right)^{2}}{4 t}}}{4 t}$$"
      ],
      "text/plain": [
       "                   2                                   2 \n",
       "   -x₂   -(x₂ - x₃)                    -x₂   -(x₂ - x₃)  \n",
       "   ────  ────────────                  ────  ────────────\n",
       "    2        4⋅t                        2        4⋅t     \n",
       "  ℯ    ⋅ℯ               (2⋅x₂ - 2⋅x₃)⋅ℯ    ⋅ℯ            \n",
       "- ─────────────────── - ─────────────────────────────────\n",
       "           2                           4⋅t               "
      ]
     },
     "execution_count": 31,
     "metadata": {},
     "output_type": "execute_result"
    }
   ],
   "source": [
    "integ.diff(x_2)"
   ]
  },
  {
   "cell_type": "code",
   "execution_count": null,
   "metadata": {},
   "outputs": [],
   "source": []
  },
  {
   "cell_type": "code",
   "execution_count": 27,
   "metadata": {},
   "outputs": [
    {
     "data": {
      "image/png": "[encoded data removed]",
      "text/latex": [
       "$$- \\frac{2 \\left(- \\frac{\\pi \\sqrt{t} e^{\\frac{t}{4}} \\operatorname{erf}{\\left (\\frac{\\sqrt{t}}{2} \\right )}}{2} - \\frac{\\pi \\sqrt{t} e^{\\frac{t}{4}}}{2}\\right) e^{- \\frac{x_{3}}{2}}}{\\sqrt{\\pi}} + \\frac{2 \\left(- \\frac{\\pi \\sqrt{t} e^{\\frac{t}{4}} \\operatorname{erf}{\\left (\\frac{\\sqrt{t}}{2} \\right )}}{2} + \\frac{\\pi \\sqrt{t} e^{\\frac{t}{4}}}{2}\\right) e^{- \\frac{x_{3}}{2}}}{\\sqrt{\\pi}}$$"
      ],
      "text/plain": [
       "    ⎛        t                  ⎞           ⎛        t                  ⎞     \n",
       "    ⎜        ─                 t⎟           ⎜        ─                 t⎟     \n",
       "    ⎜        4    ⎛√t⎞         ─⎟  -x₃      ⎜        4    ⎛√t⎞         ─⎟  -x₃\n",
       "    ⎜  π⋅√t⋅ℯ ⋅erf⎜──⎟         4⎟  ────     ⎜  π⋅√t⋅ℯ ⋅erf⎜──⎟         4⎟  ───\n",
       "    ⎜             ⎝2 ⎠   π⋅√t⋅ℯ ⎟   2       ⎜             ⎝2 ⎠   π⋅√t⋅ℯ ⎟   2 \n",
       "  2⋅⎜- ─────────────── - ───────⎟⋅ℯ       2⋅⎜- ─────────────── + ───────⎟⋅ℯ   \n",
       "    ⎝         2             2   ⎠           ⎝         2             2   ⎠     \n",
       "- ───────────────────────────────────── + ────────────────────────────────────\n",
       "                    √π                                      √π                \n",
       "\n",
       " \n",
       " \n",
       " \n",
       "─\n",
       " \n",
       " \n",
       " \n",
       "─\n",
       " "
      ]
     },
     "execution_count": 27,
     "metadata": {},
     "output_type": "execute_result"
    }
   ],
   "source": [
    "integ = integrate(zetaN*exp(-(x_2-x_3)**2/(4*t)),(x_2,-oo,oo))\n",
    "integ"
   ]
  },
  {
   "cell_type": "code",
   "execution_count": 73,
   "metadata": {},
   "outputs": [
    {
     "data": {
      "image/png": "[encoded data removed]",
      "text/latex": [
       "$$e^{\\frac{t}{4} - \\frac{x_{3}}{2}}$$"
      ],
      "text/plain": [
       " t   x₃\n",
       " ─ - ──\n",
       " 4   2 \n",
       "ℯ      "
      ]
     },
     "execution_count": 73,
     "metadata": {},
     "output_type": "execute_result"
    }
   ],
   "source": [
    "simp = (integ/sqrt(4*pi*t)).simplify()\n",
    "simp"
   ]
  },
  {
   "cell_type": "code",
   "execution_count": 74,
   "metadata": {},
   "outputs": [
    {
     "data": {
      "image/png": "[encoded data removed]",
      "text/latex": [
       "$$- \\frac{e^{- \\frac{t}{4} + \\frac{x_{3}}{2}} e^{\\frac{t}{4} - \\frac{x_{3}}{2}}}{2}$$"
      ],
      "text/plain": [
       "    t   x₃  t   x₃ \n",
       "  - ─ + ──  ─ - ── \n",
       "    4   2   4   2  \n",
       "-ℯ        ⋅ℯ       \n",
       "───────────────────\n",
       "         2         "
      ]
     },
     "execution_count": 74,
     "metadata": {},
     "output_type": "execute_result"
    }
   ],
   "source": [
    "simp.diff(x_3)/simp"
   ]
  },
  {
   "cell_type": "code",
   "execution_count": 76,
   "metadata": {},
   "outputs": [
    {
     "data": {
      "image/png": "[encoded data removed]",
      "text/latex": [
       "$$- \\frac{1}{2}$$"
      ],
      "text/plain": [
       "-1/2"
      ]
     },
     "execution_count": 76,
     "metadata": {},
     "output_type": "execute_result"
    }
   ],
   "source": [
    "log(simp).diff(x_3)"
   ]
  },
  {
   "cell_type": "code",
   "execution_count": 75,
   "metadata": {},
   "outputs": [
    {
     "data": {
      "image/png": "[encoded data removed]",
      "text/latex": [
       "$$- \\frac{1}{2}$$"
      ],
      "text/plain": [
       "-1/2"
      ]
     },
     "execution_count": 75,
     "metadata": {},
     "output_type": "execute_result"
    }
   ],
   "source": [
    "_.simplify()"
   ]
  },
  {
   "cell_type": "code",
   "execution_count": 16,
   "metadata": {},
   "outputs": [],
   "source": [
    "def make_solution(fu0):\n",
    "    var('x x_2 x_3',real=True)\n",
    "    var('t nu',real=True,positive=True)\n",
    "    u_0 = fu0(x)\n",
    "    temp = -(x_3-x_2)**2/(4*nu*t) - 1/(2*nu)*integrate(u_0,(x,0,x_2))\n",
    "    print(temp)\n",
    "    integ = integrate(exp(temp), (x_2,-oo,oo))\n",
    "    temp2 = log(integ/sqrt(4*pi*nu*t))\n",
    "    print(temp2)\n",
    "    res = -2*nu*temp2.diff(x_3)\n",
    "    res = res.simplify()\n",
    "    print(res)\n",
    "    return lambdify((x,t),res)"
   ]
  },
  {
   "cell_type": "code",
   "execution_count": null,
   "metadata": {},
   "outputs": [],
   "source": [
    "_(1,1)"
   ]
  },
  {
   "cell_type": "code",
   "execution_count": null,
   "metadata": {},
   "outputs": [],
   "source": []
  }
 ],
 "metadata": {
  "kernelspec": {
   "display_name": "Python 3",
   "language": "python",
   "name": "python3"
  },
  "language_info": {
   "codemirror_mode": {
    "name": "ipython",
    "version": 3
   },
   "file_extension": ".py",
   "mimetype": "text/x-python",
   "name": "python",
   "nbconvert_exporter": "python",
   "pygments_lexer": "ipython3",
   "version": "3.7.3"
  }
 },
 "nbformat": 4,
 "nbformat_minor": 2
}
