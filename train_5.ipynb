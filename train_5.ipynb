{
 "cells": [
  {
   "cell_type": "code",
   "execution_count": null,
   "metadata": {},
   "outputs": [],
   "source": [
    "import sys\n",
    "if True:\n",
    "    from google.colab import drive\n",
    "    drive.mount('/content/drive',force_remount=True)\n",
    "    root = \"/content/drive/My Drive/Colab Notebooks/burgers/\"\n",
    "    sys.path.append(\"/content/drive/My Drive/Colab Notebooks/burgers/\")\n",
    "else:\n",
    "    root = './'"
   ]
  },
  {
   "cell_type": "code",
   "execution_count": null,
   "metadata": {},
   "outputs": [],
   "source": [
    "import numpy as np\n",
    "import torch\n",
    "from matplotlib import pylab as plt\n",
    "if torch.cuda.device_count()>0:\n",
    "    device = torch.device('cuda')\n",
    "    print(\"Connected to a GPU\")\n",
    "else:\n",
    "    print(\"Using the CPU\")\n",
    "    device = torch.device('cpu')"
   ]
  },
  {
   "cell_type": "code",
   "execution_count": null,
   "metadata": {},
   "outputs": [],
   "source": [
    "import importlib\n",
    "import util\n",
    "importlib.reload(util)\n",
    "from util import *"
   ]
  },
  {
   "cell_type": "code",
   "execution_count": null,
   "metadata": {},
   "outputs": [],
   "source": [
    "def train_it(dataset, model, disc,Npast=1, Nfuture=1):\n",
    "    #model = model\n",
    "    learning_rate = 1e-4\n",
    "    optim_model = torch.optim.Adam(model.parameters(), lr=learning_rate)\n",
    "    optim_disc  = torch.optim.Adam(disc.parameters(), lr=learning_rate)\n",
    "\n",
    "    Nepoch = 1000\n",
    "    Nbatch = 100\n",
    "    Ntotal = dataset.shape[0]*(dataset.shape[1]-(Npast+1)-Nfuture)\n",
    "    Niter = Nepoch * Ntotal//Nbatch\n",
    "    Nprint = (Niter)//10\n",
    "    Nsave = 100\n",
    "    losses = np.zeros((Niter//Nsave,2))\n",
    "    \n",
    "    for e in range(Niter):\n",
    "        xx,yy = get_batch(Nbatch, dataset)\n",
    "        \n",
    "        # Step the discriminator\n",
    "        L = - disc(y_pred) + disc(yy[:,:,1:-1])\n",
    "        optim_disc.zero_grad()\n",
    "        L.backward()\n",
    "        optim_disc.step()\n",
    "        \n",
    "        # Step the model\n",
    "        y_pred = model(xx)+xx[:,:,1:-1]\n",
    "        L = disc(y_pred)\n",
    "        optim_model.zero_grad()\n",
    "        L.backward()\n",
    "        optim_model.step()\n",
    "        \n",
    "        yy[:,:,1:-1]\n",
    "        if e%Nprint == Nprint-1:\n",
    "            print(e,L.item())\n",
    "        if e%Nsave == Nsave-1:\n",
    "            losses[e//Nsave,0] = L.item()\n",
    "        optimizer.zero_grad()\n",
    "        L.backward()\n",
    "        optimizer.step()\n",
    "    return losses"
   ]
  }
 ],
 "metadata": {
  "kernelspec": {
   "display_name": "Python 3",
   "language": "python",
   "name": "python3"
  },
  "language_info": {
   "codemirror_mode": {
    "name": "ipython",
    "version": 3
   },
   "file_extension": ".py",
   "mimetype": "text/x-python",
   "name": "python",
   "nbconvert_exporter": "python",
   "pygments_lexer": "ipython3",
   "version": "3.7.3"
  }
 },
 "nbformat": 4,
 "nbformat_minor": 2
}
